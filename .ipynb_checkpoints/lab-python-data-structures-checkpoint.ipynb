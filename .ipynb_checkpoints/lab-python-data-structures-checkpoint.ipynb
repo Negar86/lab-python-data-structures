{
 "cells": [
  {
   "cell_type": "markdown",
   "metadata": {
    "tags": []
   },
   "source": [
    "# Lab | Data Structures "
   ]
  },
  {
   "cell_type": "markdown",
   "metadata": {},
   "source": [
    "## Exercise: Managing Customer Orders\n",
    "\n",
    "As part of a business venture, you are starting an online store that sells various products. To ensure smooth operations, you need to develop a program that manages customer orders and inventory.\n",
    "\n",
    "Follow the steps below to complete the exercise:\n",
    "\n",
    "1. Define a list called `products` that contains the following items: \"t-shirt\", \"mug\", \"hat\", \"book\", \"keychain\".\n",
    "\n",
    "2. Create an empty dictionary called `inventory`.\n",
    "\n",
    "3. Ask the user to input the quantity of each product available in the inventory. Use the product names from the `products` list as keys in the `inventory` dictionary and assign the respective quantities as values.\n",
    "\n",
    "4. Create an empty set called `customer_orders`.\n",
    "\n",
    "5. Ask the user to input the name of three products that a customer wants to order (from those in the products list, meaning three products out of \"t-shirt\", \"mug\", \"hat\", \"book\" or \"keychain\". Add each product name to the `customer_orders` set.\n",
    "\n",
    "6. Print the products in the `customer_orders` set.\n",
    "\n",
    "7. Calculate the following order statistics:\n",
    "   - Total Products Ordered: The total number of products in the `customer_orders` set.\n",
    "   - Percentage of Products Ordered: The percentage of products ordered compared to the total available products.\n",
    "   \n",
    "   Store these statistics in a tuple called `order_status`.\n",
    "\n",
    "8. Print the order statistics using the following format:\n",
    "   ```\n",
    "   Order Statistics:\n",
    "   Total Products Ordered: <total_products_ordered>\n",
    "   Percentage of Products Ordered: <percentage_ordered>% \n",
    "   ```\n",
    "\n",
    "9. Update the inventory by subtracting 1 from the quantity of each product. Modify the `inventory` dictionary accordingly.\n",
    "\n",
    "10. Print the updated inventory, displaying the quantity of each product on separate lines.\n",
    "\n",
    "Solve the exercise by implementing the steps using the Python concepts of lists, dictionaries, sets, and basic input/output operations. "
   ]
  },
  {
   "cell_type": "code",
   "execution_count": 1,
   "metadata": {},
   "outputs": [
    {
     "name": "stdout",
     "output_type": "stream",
     "text": [
      "Enter the inventory of t-shirt: 65\n",
      "Enter the inventory of mug: 72\n",
      "Enter the inventory of hat: 96\n",
      "Enter the inventory of book: 58\n",
      "Enter the inventory of keychain: 47\n",
      "inventory is: {'t-shirt': 65, 'mug': 72, 'hat': 96, 'book': 58, 'keychain': 47}\n"
     ]
    }
   ],
   "source": [
    "products = [\"t-shirt\", \"mug\", \"hat\", \"book\", \"keychain\"]\n",
    "inventory = {}\n",
    "\n",
    "for product in products:\n",
    "    inventory[product] = int(input(f\"Enter the inventory of {product}: \"))\n",
    "print (f\"inventory is: {inventory}\")\n"
   ]
  },
  {
   "cell_type": "code",
   "execution_count": 2,
   "metadata": {},
   "outputs": [
    {
     "name": "stdout",
     "output_type": "stream",
     "text": [
      "enter customer order:'t-shirt','mug','hat','book','keychain' mug\n",
      "enter customer order:'t-shirt','mug','hat','book','keychain' hat\n",
      "enter customer order:'t-shirt','mug','hat','book','keychain' book\n",
      "customer order is: {'book', 'hat', 'mug'}\n"
     ]
    }
   ],
   "source": [
    "customer_orders = set()\n",
    "for i in range (3):\n",
    "    order_name = input(f\"enter customer order:'t-shirt','mug','hat','book','keychain' \")\n",
    "    customer_orders.add(order_name)\n",
    "    \n",
    "print(f\"customer order is: {customer_orders}\")    \n",
    "    "
   ]
  },
  {
   "cell_type": "code",
   "execution_count": 4,
   "metadata": {},
   "outputs": [
    {
     "name": "stdout",
     "output_type": "stream",
     "text": [
      "Order statistics:\n",
      "Total products ordered: 3\n",
      "Percentage of products ordered: 60.0%\n"
     ]
    }
   ],
   "source": [
    "total_product_ordered = len(customer_orders)  \n",
    "\n",
    "percentage_ordered = round((len(customer_orders)/ len(products))*100,2)\n",
    "\n",
    "order_status = (total_product_ordered,percentage_ordered) \n",
    "\n",
    "print(\"Order statistics:\")\n",
    "print(f\"Total products ordered: {total_product_ordered}\")\n",
    "print(f\"Percentage of products ordered: {percentage_ordered}%\")"
   ]
  },
  {
   "cell_type": "code",
   "execution_count": 5,
   "metadata": {},
   "outputs": [
    {
     "name": "stdout",
     "output_type": "stream",
     "text": [
      "updated inventory is: ('t-shirt', 65)\n",
      "updated inventory is: ('mug', 71)\n",
      "updated inventory is: ('hat', 95)\n",
      "updated inventory is: ('book', 57)\n",
      "updated inventory is: ('keychain', 47)\n"
     ]
    }
   ],
   "source": [
    "for key,value in inventory.items():\n",
    "    if key in customer_orders:\n",
    "        inventory[key] = value-1\n",
    "    else:\n",
    "        inventory[key] = value\n",
    "        \n",
    "for item in inventory.items():\n",
    "    print(f\"updated inventory is: {item}\")"
   ]
  },
  {
   "cell_type": "code",
   "execution_count": null,
   "metadata": {},
   "outputs": [],
   "source": []
  }
 ],
 "metadata": {
  "kernelspec": {
   "display_name": "Python 3 (ipykernel)",
   "language": "python",
   "name": "python3"
  },
  "language_info": {
   "codemirror_mode": {
    "name": "ipython",
    "version": 3
   },
   "file_extension": ".py",
   "mimetype": "text/x-python",
   "name": "python",
   "nbconvert_exporter": "python",
   "pygments_lexer": "ipython3",
   "version": "3.11.5"
  }
 },
 "nbformat": 4,
 "nbformat_minor": 4
}
